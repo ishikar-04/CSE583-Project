{
 "cells": [
  {
   "cell_type": "markdown",
   "id": "813ff1da",
   "metadata": {},
   "source": [
    "### Import pygooglenews"
   ]
  },
  {
   "cell_type": "code",
   "execution_count": 3,
   "id": "15ddad4e",
   "metadata": {},
   "outputs": [],
   "source": [
    "from pygooglenews import GoogleNews\n",
    "import pandas as pd\n",
    "import numpy as np\n",
    "\n",
    "gn = GoogleNews() # now global mode? can specify country = US"
   ]
  },
  {
   "cell_type": "markdown",
   "id": "65af8138",
   "metadata": {},
   "source": [
    "### Import .csv file "
   ]
  },
  {
   "cell_type": "code",
   "execution_count": 6,
   "id": "493c85cb",
   "metadata": {},
   "outputs": [],
   "source": [
    "df = pd.read_csv('UseCase1_Data.csv') # must be in same repository that the jupyter notebook is in"
   ]
  },
  {
   "cell_type": "code",
   "execution_count": 7,
   "id": "52655304",
   "metadata": {},
   "outputs": [
    {
     "data": {
      "text/html": [
       "<div>\n",
       "<style scoped>\n",
       "    .dataframe tbody tr th:only-of-type {\n",
       "        vertical-align: middle;\n",
       "    }\n",
       "\n",
       "    .dataframe tbody tr th {\n",
       "        vertical-align: top;\n",
       "    }\n",
       "\n",
       "    .dataframe thead th {\n",
       "        text-align: right;\n",
       "    }\n",
       "</style>\n",
       "<table border=\"1\" class=\"dataframe\">\n",
       "  <thead>\n",
       "    <tr style=\"text-align: right;\">\n",
       "      <th></th>\n",
       "      <th>Author_Name</th>\n",
       "      <th>Article_Title</th>\n",
       "      <th>Article_DOI</th>\n",
       "    </tr>\n",
       "  </thead>\n",
       "  <tbody>\n",
       "    <tr>\n",
       "      <th>0</th>\n",
       "      <td>Laurel Westbrook</td>\n",
       "      <td>Doing Gender, Determining Gender: Transgender ...</td>\n",
       "      <td>10.1177/0891243213503203</td>\n",
       "    </tr>\n",
       "    <tr>\n",
       "      <th>1</th>\n",
       "      <td>Jonathan Ospina-Betancurt</td>\n",
       "      <td>The End of Compulsory Gender Verification: Is ...</td>\n",
       "      <td>10.1007/s10508-021-02073-x</td>\n",
       "    </tr>\n",
       "    <tr>\n",
       "      <th>2</th>\n",
       "      <td>Katrina Karkazis</td>\n",
       "      <td>The misuses of “biological sex”</td>\n",
       "      <td>10.1016/S0140-6736(19)32764-3</td>\n",
       "    </tr>\n",
       "    <tr>\n",
       "      <th>3</th>\n",
       "      <td>Vanessa Heggie</td>\n",
       "      <td>Testing sex and gender in sports; reinventing,...</td>\n",
       "      <td>10.1016/j.endeavour.2010.09.005</td>\n",
       "    </tr>\n",
       "    <tr>\n",
       "      <th>4</th>\n",
       "      <td>April Vannini</td>\n",
       "      <td>Girl, Interrupted: Interpreting Semenya’s Body...</td>\n",
       "      <td>10.1177/1532708611409536</td>\n",
       "    </tr>\n",
       "    <tr>\n",
       "      <th>5</th>\n",
       "      <td>Heather Sykes</td>\n",
       "      <td>Transsexual and Transgender Policies in Sport</td>\n",
       "      <td>10.1123/wspaj.15.1.3</td>\n",
       "    </tr>\n",
       "    <tr>\n",
       "      <th>6</th>\n",
       "      <td>Stephane Bermon</td>\n",
       "      <td>Are the New Policies on Hyperandrogenism in El...</td>\n",
       "      <td>10.1080/15265161.2013.776129</td>\n",
       "    </tr>\n",
       "    <tr>\n",
       "      <th>7</th>\n",
       "      <td>Francisco Sanchez</td>\n",
       "      <td>The New Policy on Hyperandrogenism in Elite Fe...</td>\n",
       "      <td>10.1080/00224499.2012.752429</td>\n",
       "    </tr>\n",
       "    <tr>\n",
       "      <th>8</th>\n",
       "      <td>Ruth Wood</td>\n",
       "      <td>Testosterone and sport: current perspectives</td>\n",
       "      <td>10.1016/j.yhbeh.2011.09.010</td>\n",
       "    </tr>\n",
       "    <tr>\n",
       "      <th>9</th>\n",
       "      <td>Emma Hilton</td>\n",
       "      <td>Transgender women in the female category of sp...</td>\n",
       "      <td>10.1007/s40279-020-01389-3</td>\n",
       "    </tr>\n",
       "    <tr>\n",
       "      <th>10</th>\n",
       "      <td>Joanna Harper</td>\n",
       "      <td>Implications of a third gender for elite sports</td>\n",
       "      <td>10.1249/JSR.0000000000000455</td>\n",
       "    </tr>\n",
       "    <tr>\n",
       "      <th>11</th>\n",
       "      <td>Timothy Roberts</td>\n",
       "      <td>Effect of gender affirming hormones on athleti...</td>\n",
       "      <td>10.1136/bjsports-2020-102329</td>\n",
       "    </tr>\n",
       "    <tr>\n",
       "      <th>12</th>\n",
       "      <td>Ashely Bassett</td>\n",
       "      <td>The Biology of Sex and Sport</td>\n",
       "      <td>10.2106/JBJS.RVW.19.00140</td>\n",
       "    </tr>\n",
       "    <tr>\n",
       "      <th>13</th>\n",
       "      <td>Alan Rogol</td>\n",
       "      <td>Genes, Gender, Hormones, and Doping in Sport: ...</td>\n",
       "      <td>doi.org/10.3389/fendo.2017.00251</td>\n",
       "    </tr>\n",
       "    <tr>\n",
       "      <th>14</th>\n",
       "      <td>Maria Jose Martinez-Patino</td>\n",
       "      <td>The unfinished race: 30 years of gender verifi...</td>\n",
       "      <td>10.1016/S0140-6736(16)30963-1</td>\n",
       "    </tr>\n",
       "    <tr>\n",
       "      <th>15</th>\n",
       "      <td>Taryon Knox</td>\n",
       "      <td>Transwomen in elite sport: scientific and ethi...</td>\n",
       "      <td>10.1136/medethics-2018-105208</td>\n",
       "    </tr>\n",
       "    <tr>\n",
       "      <th>16</th>\n",
       "      <td>John Devine</td>\n",
       "      <td>Gender, Steroids, and Fairness in Sport</td>\n",
       "      <td>10.1080/17511321.2017.1404627</td>\n",
       "    </tr>\n",
       "    <tr>\n",
       "      <th>17</th>\n",
       "      <td>Carole Hooven</td>\n",
       "      <td>NaN</td>\n",
       "      <td>NaN</td>\n",
       "    </tr>\n",
       "  </tbody>\n",
       "</table>\n",
       "</div>"
      ],
      "text/plain": [
       "                   Author_Name  \\\n",
       "0             Laurel Westbrook   \n",
       "1    Jonathan Ospina-Betancurt   \n",
       "2             Katrina Karkazis   \n",
       "3               Vanessa Heggie   \n",
       "4                April Vannini   \n",
       "5                Heather Sykes   \n",
       "6              Stephane Bermon   \n",
       "7            Francisco Sanchez   \n",
       "8                    Ruth Wood   \n",
       "9                  Emma Hilton   \n",
       "10               Joanna Harper   \n",
       "11             Timothy Roberts   \n",
       "12              Ashely Bassett   \n",
       "13                  Alan Rogol   \n",
       "14  Maria Jose Martinez-Patino   \n",
       "15                 Taryon Knox   \n",
       "16                 John Devine   \n",
       "17               Carole Hooven   \n",
       "\n",
       "                                        Article_Title  \\\n",
       "0   Doing Gender, Determining Gender: Transgender ...   \n",
       "1   The End of Compulsory Gender Verification: Is ...   \n",
       "2                     The misuses of “biological sex”   \n",
       "3   Testing sex and gender in sports; reinventing,...   \n",
       "4   Girl, Interrupted: Interpreting Semenya’s Body...   \n",
       "5       Transsexual and Transgender Policies in Sport   \n",
       "6   Are the New Policies on Hyperandrogenism in El...   \n",
       "7   The New Policy on Hyperandrogenism in Elite Fe...   \n",
       "8        Testosterone and sport: current perspectives   \n",
       "9   Transgender women in the female category of sp...   \n",
       "10    Implications of a third gender for elite sports   \n",
       "11  Effect of gender affirming hormones on athleti...   \n",
       "12                       The Biology of Sex and Sport   \n",
       "13  Genes, Gender, Hormones, and Doping in Sport: ...   \n",
       "14  The unfinished race: 30 years of gender verifi...   \n",
       "15  Transwomen in elite sport: scientific and ethi...   \n",
       "16            Gender, Steroids, and Fairness in Sport   \n",
       "17                                                NaN   \n",
       "\n",
       "                         Article_DOI  \n",
       "0           10.1177/0891243213503203  \n",
       "1         10.1007/s10508-021-02073-x  \n",
       "2      10.1016/S0140-6736(19)32764-3  \n",
       "3    10.1016/j.endeavour.2010.09.005  \n",
       "4           10.1177/1532708611409536  \n",
       "5               10.1123/wspaj.15.1.3  \n",
       "6       10.1080/15265161.2013.776129  \n",
       "7       10.1080/00224499.2012.752429  \n",
       "8        10.1016/j.yhbeh.2011.09.010  \n",
       "9         10.1007/s40279-020-01389-3  \n",
       "10      10.1249/JSR.0000000000000455  \n",
       "11      10.1136/bjsports-2020-102329  \n",
       "12         10.2106/JBJS.RVW.19.00140  \n",
       "13  doi.org/10.3389/fendo.2017.00251  \n",
       "14     10.1016/S0140-6736(16)30963-1  \n",
       "15     10.1136/medethics-2018-105208  \n",
       "16     10.1080/17511321.2017.1404627  \n",
       "17                               NaN  "
      ]
     },
     "execution_count": 7,
     "metadata": {},
     "output_type": "execute_result"
    }
   ],
   "source": [
    "df"
   ]
  },
  {
   "cell_type": "markdown",
   "id": "492d25f5",
   "metadata": {},
   "source": [
    "### Get common key words in title first"
   ]
  },
  {
   "cell_type": "code",
   "execution_count": 36,
   "id": "fc980b9a",
   "metadata": {},
   "outputs": [
    {
     "name": "stdout",
     "output_type": "stream",
     "text": [
      "article_titles:  ['Doing Gender, Determining Gender:\\xa0Transgender People, Gender Panics, and the Maintenance of the Sex/Gender/Sexuality System', 'The End of Compulsory Gender Verification: Is It Progress for Inclusion of Women in Sports?', 'The misuses of “biological sex”', 'Testing sex and gender in sports; reinventing, reimagining and reconstructing histories', 'Girl, Interrupted: Interpreting Semenya’s Body, Gender Verification Testing, and Public Discourse', 'Transsexual and Transgender Policies in Sport', 'Are the New Policies on Hyperandrogenism in Elite Female Athletes Really Out of Bounds? Response to “Out of Bounds? A Critique of the New Policies on Hyperandrogenism in Elite Female Athletes”', 'The New Policy on Hyperandrogenism in Elite Female Athletes is Not About “Sex Testing”', 'Testosterone and sport: current perspectives', 'Transgender women in the female category of sport: perspectives on testosterone suppression and performance advantage', 'Implications of a third gender for elite sports', 'Effect of gender affirming hormones on athletic performance in transwomen and transmen: implications for sporting organisations and legislators', 'The Biology of Sex and Sport', 'Genes, Gender, Hormones, and Doping in Sport: A Convoluted Tale', 'The unfinished race: 30 years of gender verification in sport', 'Transwomen in elite sport: scientific and ethical considerations', 'Gender, Steroids, and Fairness in Sport', nan]\n",
      "<class 'list'>\n"
     ]
    }
   ],
   "source": [
    "article_titles = df['Article_Title'].to_list() # make article titles a list\n",
    "print('article_titles: ', article_titles)\n",
    "print(type(article_titles))\n"
   ]
  },
  {
   "cell_type": "code",
   "execution_count": 44,
   "id": "923cc674",
   "metadata": {},
   "outputs": [
    {
     "name": "stdout",
     "output_type": "stream",
     "text": [
      "[('Gender,', 1), ('Gender:', 1), ('Transgender', 1), ('People,', 1), ('Gender', 1), ('Panics,', 1), ('Maintenance', 1), ('Sex/Gender/Sexuality', 1), ('System', 1)]\n"
     ]
    },
    {
     "ename": "NameError",
     "evalue": "name 'to' is not defined",
     "output_type": "error",
     "traceback": [
      "\u001b[0;31m---------------------------------------------------------------------------\u001b[0m",
      "\u001b[0;31mNameError\u001b[0m                                 Traceback (most recent call last)",
      "\u001b[0;32m<ipython-input-44-0c254f45a80d>\u001b[0m in \u001b[0;36m<module>\u001b[0;34m\u001b[0m\n\u001b[1;32m      7\u001b[0m \u001b[0mprint\u001b[0m\u001b[0;34m(\u001b[0m\u001b[0mcount\u001b[0m\u001b[0;34m)\u001b[0m\u001b[0;34m\u001b[0m\u001b[0;34m\u001b[0m\u001b[0m\n\u001b[1;32m      8\u001b[0m \u001b[0;34m\u001b[0m\u001b[0m\n\u001b[0;32m----> 9\u001b[0;31m \u001b[0mcount\u001b[0m \u001b[0;34m=\u001b[0m \u001b[0mto\u001b[0m\u001b[0;34m.\u001b[0m\u001b[0mlist\u001b[0m\u001b[0;34m(\u001b[0m\u001b[0mcount\u001b[0m\u001b[0;34m)\u001b[0m\u001b[0;34m\u001b[0m\u001b[0;34m\u001b[0m\u001b[0m\n\u001b[0m",
      "\u001b[0;31mNameError\u001b[0m: name 'to' is not defined"
     ]
    }
   ],
   "source": [
    "from collections import Counter\n",
    "\n",
    "stops = {'this', 'that', 'a', 'is', \"and\", \"Determining\", \"Doing\", \"the\", \"People\", \"of\"}    \n",
    "words = article_titles[0].split()\n",
    "count = Counter(word for word in words if word not in stops).most_common(10) # we may want to figure out a way to remove all punctuation from titles first\n",
    "\n",
    "print(count)\n",
    "\n"
   ]
  },
  {
   "cell_type": "markdown",
   "id": "0e9fbe8a",
   "metadata": {},
   "source": [
    "### Function for scraping "
   ]
  },
  {
   "cell_type": "code",
   "execution_count": null,
   "id": "415bd262",
   "metadata": {},
   "outputs": [],
   "source": [
    "# search = gn.search(‘author name’) #search by author name\n",
    "res_df = pd.DataFrame()\n",
    "def scraping(df):\n",
    "    stories = []\n",
    "    for i in range(len(df)):\n",
    "        search = gn.search(df.iloc[i].loc['Author_Name'])\n",
    "        newsitem = search['entries']\n",
    "        for item in newsitem:\n",
    "            story = {\n",
    "                # authorname\n",
    "                'title': item.title,\n",
    "                'link': item.link\n",
    "            }\n",
    "            stories.append(story)\n",
    "    return stories\n",
    "scraping(df)"
   ]
  }
 ],
 "metadata": {
  "kernelspec": {
   "display_name": "Python 3",
   "language": "python",
   "name": "python3"
  },
  "language_info": {
   "codemirror_mode": {
    "name": "ipython",
    "version": 3
   },
   "file_extension": ".py",
   "mimetype": "text/x-python",
   "name": "python",
   "nbconvert_exporter": "python",
   "pygments_lexer": "ipython3",
   "version": "3.8.8"
  }
 },
 "nbformat": 4,
 "nbformat_minor": 5
}
